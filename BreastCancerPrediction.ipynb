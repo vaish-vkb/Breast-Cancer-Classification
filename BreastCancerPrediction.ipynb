{
 "cells": [
  {
   "cell_type": "code",
   "execution_count": 3,
   "id": "41af0d3b",
   "metadata": {},
   "outputs": [],
   "source": [
    "import numpy as np\n",
    "import pandas as pd\n",
    "import matplotlib.pyplot as plt\n",
    "import seaborn as sns"
   ]
  },
  {
   "cell_type": "code",
   "execution_count": 4,
   "id": "0728ac07",
   "metadata": {},
   "outputs": [
    {
     "data": {
      "text/html": [
       "<div>\n",
       "<style scoped>\n",
       "    .dataframe tbody tr th:only-of-type {\n",
       "        vertical-align: middle;\n",
       "    }\n",
       "\n",
       "    .dataframe tbody tr th {\n",
       "        vertical-align: top;\n",
       "    }\n",
       "\n",
       "    .dataframe thead th {\n",
       "        text-align: right;\n",
       "    }\n",
       "</style>\n",
       "<table border=\"1\" class=\"dataframe\">\n",
       "  <thead>\n",
       "    <tr style=\"text-align: right;\">\n",
       "      <th></th>\n",
       "      <th>0</th>\n",
       "      <th>1</th>\n",
       "      <th>2</th>\n",
       "      <th>3</th>\n",
       "      <th>4</th>\n",
       "      <th>5</th>\n",
       "      <th>6</th>\n",
       "      <th>7</th>\n",
       "      <th>8</th>\n",
       "      <th>9</th>\n",
       "      <th>10</th>\n",
       "    </tr>\n",
       "  </thead>\n",
       "  <tbody>\n",
       "    <tr>\n",
       "      <th>0</th>\n",
       "      <td>1000025</td>\n",
       "      <td>5</td>\n",
       "      <td>1</td>\n",
       "      <td>1</td>\n",
       "      <td>1</td>\n",
       "      <td>2</td>\n",
       "      <td>1</td>\n",
       "      <td>3</td>\n",
       "      <td>1</td>\n",
       "      <td>1</td>\n",
       "      <td>2</td>\n",
       "    </tr>\n",
       "    <tr>\n",
       "      <th>1</th>\n",
       "      <td>1002945</td>\n",
       "      <td>5</td>\n",
       "      <td>4</td>\n",
       "      <td>4</td>\n",
       "      <td>5</td>\n",
       "      <td>7</td>\n",
       "      <td>10</td>\n",
       "      <td>3</td>\n",
       "      <td>2</td>\n",
       "      <td>1</td>\n",
       "      <td>2</td>\n",
       "    </tr>\n",
       "    <tr>\n",
       "      <th>2</th>\n",
       "      <td>1015425</td>\n",
       "      <td>3</td>\n",
       "      <td>1</td>\n",
       "      <td>1</td>\n",
       "      <td>1</td>\n",
       "      <td>2</td>\n",
       "      <td>2</td>\n",
       "      <td>3</td>\n",
       "      <td>1</td>\n",
       "      <td>1</td>\n",
       "      <td>2</td>\n",
       "    </tr>\n",
       "    <tr>\n",
       "      <th>3</th>\n",
       "      <td>1016277</td>\n",
       "      <td>6</td>\n",
       "      <td>8</td>\n",
       "      <td>8</td>\n",
       "      <td>1</td>\n",
       "      <td>3</td>\n",
       "      <td>4</td>\n",
       "      <td>3</td>\n",
       "      <td>7</td>\n",
       "      <td>1</td>\n",
       "      <td>2</td>\n",
       "    </tr>\n",
       "    <tr>\n",
       "      <th>4</th>\n",
       "      <td>1017023</td>\n",
       "      <td>4</td>\n",
       "      <td>1</td>\n",
       "      <td>1</td>\n",
       "      <td>3</td>\n",
       "      <td>2</td>\n",
       "      <td>1</td>\n",
       "      <td>3</td>\n",
       "      <td>1</td>\n",
       "      <td>1</td>\n",
       "      <td>2</td>\n",
       "    </tr>\n",
       "  </tbody>\n",
       "</table>\n",
       "</div>"
      ],
      "text/plain": [
       "        0   1   2   3   4   5   6   7   8   9   10\n",
       "0  1000025   5   1   1   1   2   1   3   1   1   2\n",
       "1  1002945   5   4   4   5   7  10   3   2   1   2\n",
       "2  1015425   3   1   1   1   2   2   3   1   1   2\n",
       "3  1016277   6   8   8   1   3   4   3   7   1   2\n",
       "4  1017023   4   1   1   3   2   1   3   1   1   2"
      ]
     },
     "execution_count": 4,
     "metadata": {},
     "output_type": "execute_result"
    }
   ],
   "source": [
    "df = pd.read_csv('breast_cancer.data',header=None)\n",
    "df.head()"
   ]
  },
  {
   "cell_type": "code",
   "execution_count": 5,
   "id": "5c6e568b",
   "metadata": {},
   "outputs": [
    {
     "data": {
      "text/plain": [
       "(699, 11)"
      ]
     },
     "execution_count": 5,
     "metadata": {},
     "output_type": "execute_result"
    }
   ],
   "source": [
    "df.shape"
   ]
  },
  {
   "cell_type": "code",
   "execution_count": 6,
   "id": "5e955ae9",
   "metadata": {},
   "outputs": [
    {
     "data": {
      "text/html": [
       "<div>\n",
       "<style scoped>\n",
       "    .dataframe tbody tr th:only-of-type {\n",
       "        vertical-align: middle;\n",
       "    }\n",
       "\n",
       "    .dataframe tbody tr th {\n",
       "        vertical-align: top;\n",
       "    }\n",
       "\n",
       "    .dataframe thead th {\n",
       "        text-align: right;\n",
       "    }\n",
       "</style>\n",
       "<table border=\"1\" class=\"dataframe\">\n",
       "  <thead>\n",
       "    <tr style=\"text-align: right;\">\n",
       "      <th></th>\n",
       "      <th>Code_No</th>\n",
       "      <th>Thickness</th>\n",
       "      <th>Cell_Size</th>\n",
       "      <th>Cell_Shape</th>\n",
       "      <th>Adhesion</th>\n",
       "      <th>Ept_Cell_Size</th>\n",
       "      <th>Nuclei</th>\n",
       "      <th>Chromatin</th>\n",
       "      <th>Nucleoli</th>\n",
       "      <th>Mitoses</th>\n",
       "      <th>Class</th>\n",
       "    </tr>\n",
       "  </thead>\n",
       "  <tbody>\n",
       "    <tr>\n",
       "      <th>0</th>\n",
       "      <td>1000025</td>\n",
       "      <td>5</td>\n",
       "      <td>1</td>\n",
       "      <td>1</td>\n",
       "      <td>1</td>\n",
       "      <td>2</td>\n",
       "      <td>1</td>\n",
       "      <td>3</td>\n",
       "      <td>1</td>\n",
       "      <td>1</td>\n",
       "      <td>2</td>\n",
       "    </tr>\n",
       "    <tr>\n",
       "      <th>1</th>\n",
       "      <td>1002945</td>\n",
       "      <td>5</td>\n",
       "      <td>4</td>\n",
       "      <td>4</td>\n",
       "      <td>5</td>\n",
       "      <td>7</td>\n",
       "      <td>10</td>\n",
       "      <td>3</td>\n",
       "      <td>2</td>\n",
       "      <td>1</td>\n",
       "      <td>2</td>\n",
       "    </tr>\n",
       "    <tr>\n",
       "      <th>2</th>\n",
       "      <td>1015425</td>\n",
       "      <td>3</td>\n",
       "      <td>1</td>\n",
       "      <td>1</td>\n",
       "      <td>1</td>\n",
       "      <td>2</td>\n",
       "      <td>2</td>\n",
       "      <td>3</td>\n",
       "      <td>1</td>\n",
       "      <td>1</td>\n",
       "      <td>2</td>\n",
       "    </tr>\n",
       "    <tr>\n",
       "      <th>3</th>\n",
       "      <td>1016277</td>\n",
       "      <td>6</td>\n",
       "      <td>8</td>\n",
       "      <td>8</td>\n",
       "      <td>1</td>\n",
       "      <td>3</td>\n",
       "      <td>4</td>\n",
       "      <td>3</td>\n",
       "      <td>7</td>\n",
       "      <td>1</td>\n",
       "      <td>2</td>\n",
       "    </tr>\n",
       "    <tr>\n",
       "      <th>4</th>\n",
       "      <td>1017023</td>\n",
       "      <td>4</td>\n",
       "      <td>1</td>\n",
       "      <td>1</td>\n",
       "      <td>3</td>\n",
       "      <td>2</td>\n",
       "      <td>1</td>\n",
       "      <td>3</td>\n",
       "      <td>1</td>\n",
       "      <td>1</td>\n",
       "      <td>2</td>\n",
       "    </tr>\n",
       "  </tbody>\n",
       "</table>\n",
       "</div>"
      ],
      "text/plain": [
       "   Code_No  Thickness  Cell_Size  Cell_Shape  Adhesion  Ept_Cell_Size Nuclei  \\\n",
       "0  1000025          5          1           1         1              2      1   \n",
       "1  1002945          5          4           4         5              7     10   \n",
       "2  1015425          3          1           1         1              2      2   \n",
       "3  1016277          6          8           8         1              3      4   \n",
       "4  1017023          4          1           1         3              2      1   \n",
       "\n",
       "   Chromatin  Nucleoli  Mitoses  Class  \n",
       "0          3         1        1      2  \n",
       "1          3         2        1      2  \n",
       "2          3         1        1      2  \n",
       "3          3         7        1      2  \n",
       "4          3         1        1      2  "
      ]
     },
     "execution_count": 6,
     "metadata": {},
     "output_type": "execute_result"
    }
   ],
   "source": [
    "df.columns = ['Code_No','Thickness','Cell_Size','Cell_Shape','Adhesion','Ept_Cell_Size',\n",
    "             'Nuclei','Chromatin','Nucleoli','Mitoses','Class']\n",
    "df.head()"
   ]
  },
  {
   "cell_type": "code",
   "execution_count": 7,
   "id": "40616eb0",
   "metadata": {},
   "outputs": [],
   "source": [
    "\n",
    "# #  Attribute                     Domain\n",
    "#    -- -----------------------------------------\n",
    "#    1. Sample code number            id number\n",
    "#    2. Clump Thickness               1 - 10\n",
    "#    3. Uniformity of Cell Size       1 - 10\n",
    "#    4. Uniformity of Cell Shape      1 - 10\n",
    "#    5. Marginal Adhesion             1 - 10\n",
    "#    6. Single Epithelial Cell Size   1 - 10\n",
    "#    7. Bare Nuclei                   1 - 10\n",
    "#    8. Bland Chromatin               1 - 10\n",
    "#    9. Normal Nucleoli               1 - 10\n",
    "#   10. Mitoses                       1 - 10\n",
    "#   11. Class:                        (2 for benign, 4 for malignant)\n"
   ]
  },
  {
   "cell_type": "code",
   "execution_count": 8,
   "id": "b5ccefd5",
   "metadata": {},
   "outputs": [
    {
     "data": {
      "text/plain": [
       "Code_No          0\n",
       "Thickness        0\n",
       "Cell_Size        0\n",
       "Cell_Shape       0\n",
       "Adhesion         0\n",
       "Ept_Cell_Size    0\n",
       "Nuclei           0\n",
       "Chromatin        0\n",
       "Nucleoli         0\n",
       "Mitoses          0\n",
       "Class            0\n",
       "dtype: int64"
      ]
     },
     "execution_count": 8,
     "metadata": {},
     "output_type": "execute_result"
    }
   ],
   "source": [
    "df.isnull().sum()"
   ]
  },
  {
   "cell_type": "code",
   "execution_count": 9,
   "id": "9a52fa23",
   "metadata": {},
   "outputs": [
    {
     "data": {
      "text/plain": [
       "Code_No           int64\n",
       "Thickness         int64\n",
       "Cell_Size         int64\n",
       "Cell_Shape        int64\n",
       "Adhesion          int64\n",
       "Ept_Cell_Size     int64\n",
       "Nuclei           object\n",
       "Chromatin         int64\n",
       "Nucleoli          int64\n",
       "Mitoses           int64\n",
       "Class             int64\n",
       "dtype: object"
      ]
     },
     "execution_count": 9,
     "metadata": {},
     "output_type": "execute_result"
    }
   ],
   "source": [
    "df.dtypes"
   ]
  },
  {
   "cell_type": "code",
   "execution_count": 10,
   "id": "bb1952a9",
   "metadata": {},
   "outputs": [
    {
     "data": {
      "text/plain": [
       "2    458\n",
       "4    241\n",
       "Name: Class, dtype: int64"
      ]
     },
     "execution_count": 10,
     "metadata": {},
     "output_type": "execute_result"
    }
   ],
   "source": [
    "d1 = df['Class'].value_counts()\n",
    "d1\n",
    "# 2 - Benign\n",
    "# 4 - Malignant"
   ]
  },
  {
   "cell_type": "code",
   "execution_count": 11,
   "id": "c93f0341",
   "metadata": {},
   "outputs": [
    {
     "data": {
      "image/png": "[encoded data removed]",
      "text/plain": [
       "<Figure size 432x288 with 1 Axes>"
      ]
     },
     "metadata": {
      "needs_background": "light"
     },
     "output_type": "display_data"
    }
   ],
   "source": [
    "plt.bar(d1.index,d1)\n",
    "plt.xlabel('Cancer Class 2 and 4')\n",
    "plt.ylabel('Number of cases')\n",
    "plt.show()"
   ]
  },
  {
   "cell_type": "code",
   "execution_count": 12,
   "id": "af68ab7d",
   "metadata": {},
   "outputs": [
    {
     "data": {
      "text/plain": [
       "1     402\n",
       "10    132\n",
       "2      30\n",
       "5      30\n",
       "3      28\n",
       "8      21\n",
       "4      19\n",
       "?      16\n",
       "9       9\n",
       "7       8\n",
       "6       4\n",
       "Name: Nuclei, dtype: int64"
      ]
     },
     "execution_count": 12,
     "metadata": {},
     "output_type": "execute_result"
    }
   ],
   "source": [
    "df['Nuclei'].value_counts()"
   ]
  },
  {
   "cell_type": "code",
   "execution_count": 13,
   "id": "f98c0b42",
   "metadata": {},
   "outputs": [
    {
     "data": {
      "text/plain": [
       "1     402\n",
       "10    132\n",
       "2      30\n",
       "5      30\n",
       "3      28\n",
       "8      21\n",
       "4      19\n",
       "1      16\n",
       "9       9\n",
       "7       8\n",
       "6       4\n",
       "Name: Nuclei, dtype: int64"
      ]
     },
     "execution_count": 13,
     "metadata": {},
     "output_type": "execute_result"
    }
   ],
   "source": [
    "df['Nuclei'] = df['Nuclei'].replace('?',1)\n",
    "df['Nuclei'].value_counts()"
   ]
  },
  {
   "cell_type": "code",
   "execution_count": 14,
   "id": "bcf55147",
   "metadata": {},
   "outputs": [
    {
     "data": {
      "text/plain": [
       "Code_No           int64\n",
       "Thickness         int64\n",
       "Cell_Size         int64\n",
       "Cell_Shape        int64\n",
       "Adhesion          int64\n",
       "Ept_Cell_Size     int64\n",
       "Nuclei           object\n",
       "Chromatin         int64\n",
       "Nucleoli          int64\n",
       "Mitoses           int64\n",
       "Class             int64\n",
       "dtype: object"
      ]
     },
     "execution_count": 14,
     "metadata": {},
     "output_type": "execute_result"
    }
   ],
   "source": [
    "df.dtypes"
   ]
  },
  {
   "cell_type": "code",
   "execution_count": 15,
   "id": "a1fca805",
   "metadata": {},
   "outputs": [
    {
     "data": {
      "text/plain": [
       "Code_No          int64\n",
       "Thickness        int64\n",
       "Cell_Size        int64\n",
       "Cell_Shape       int64\n",
       "Adhesion         int64\n",
       "Ept_Cell_Size    int64\n",
       "Nuclei           int64\n",
       "Chromatin        int64\n",
       "Nucleoli         int64\n",
       "Mitoses          int64\n",
       "Class            int64\n",
       "dtype: object"
      ]
     },
     "execution_count": 15,
     "metadata": {},
     "output_type": "execute_result"
    }
   ],
   "source": [
    "df['Nuclei'] = pd.to_numeric(df['Nuclei'])\n",
    "df.dtypes"
   ]
  },
  {
   "cell_type": "code",
   "execution_count": 16,
   "id": "5cfcb194",
   "metadata": {},
   "outputs": [
    {
     "data": {
      "text/plain": [
       "1     418\n",
       "10    132\n",
       "2      30\n",
       "5      30\n",
       "3      28\n",
       "8      21\n",
       "4      19\n",
       "9       9\n",
       "7       8\n",
       "6       4\n",
       "Name: Nuclei, dtype: int64"
      ]
     },
     "execution_count": 16,
     "metadata": {},
     "output_type": "execute_result"
    }
   ],
   "source": [
    "df['Nuclei'].value_counts()"
   ]
  },
  {
   "cell_type": "code",
   "execution_count": 17,
   "id": "cb148063",
   "metadata": {},
   "outputs": [
    {
     "data": {
      "text/plain": [
       "Code_No          int64\n",
       "Thickness        int64\n",
       "Cell_Size        int64\n",
       "Cell_Shape       int64\n",
       "Adhesion         int64\n",
       "Ept_Cell_Size    int64\n",
       "Nuclei           int64\n",
       "Chromatin        int64\n",
       "Nucleoli         int64\n",
       "Mitoses          int64\n",
       "Class            int64\n",
       "dtype: object"
      ]
     },
     "execution_count": 17,
     "metadata": {},
     "output_type": "execute_result"
    }
   ],
   "source": [
    "df.dtypes"
   ]
  },
  {
   "cell_type": "markdown",
   "id": "4141c180",
   "metadata": {},
   "source": [
    "### Model - 1"
   ]
  },
  {
   "cell_type": "code",
   "execution_count": 18,
   "id": "732165ec",
   "metadata": {},
   "outputs": [
    {
     "name": "stdout",
     "output_type": "stream",
     "text": [
      "(699, 9) (699,)\n",
      "<class 'pandas.core.frame.DataFrame'> <class 'pandas.core.series.Series'>\n"
     ]
    }
   ],
   "source": [
    "x = df.iloc[:,1:-1]\n",
    "y = df.iloc[:,-1]\n",
    "print(x.shape,y.shape)\n",
    "print(type(x),type(y))"
   ]
  },
  {
   "cell_type": "code",
   "execution_count": 19,
   "id": "eef29ff1",
   "metadata": {},
   "outputs": [
    {
     "data": {
      "text/html": [
       "<div>\n",
       "<style scoped>\n",
       "    .dataframe tbody tr th:only-of-type {\n",
       "        vertical-align: middle;\n",
       "    }\n",
       "\n",
       "    .dataframe tbody tr th {\n",
       "        vertical-align: top;\n",
       "    }\n",
       "\n",
       "    .dataframe thead th {\n",
       "        text-align: right;\n",
       "    }\n",
       "</style>\n",
       "<table border=\"1\" class=\"dataframe\">\n",
       "  <thead>\n",
       "    <tr style=\"text-align: right;\">\n",
       "      <th></th>\n",
       "      <th>Thickness</th>\n",
       "      <th>Cell_Size</th>\n",
       "      <th>Cell_Shape</th>\n",
       "      <th>Adhesion</th>\n",
       "      <th>Ept_Cell_Size</th>\n",
       "      <th>Nuclei</th>\n",
       "      <th>Chromatin</th>\n",
       "      <th>Nucleoli</th>\n",
       "      <th>Mitoses</th>\n",
       "    </tr>\n",
       "  </thead>\n",
       "  <tbody>\n",
       "    <tr>\n",
       "      <th>0</th>\n",
       "      <td>5</td>\n",
       "      <td>1</td>\n",
       "      <td>1</td>\n",
       "      <td>1</td>\n",
       "      <td>2</td>\n",
       "      <td>1</td>\n",
       "      <td>3</td>\n",
       "      <td>1</td>\n",
       "      <td>1</td>\n",
       "    </tr>\n",
       "    <tr>\n",
       "      <th>1</th>\n",
       "      <td>5</td>\n",
       "      <td>4</td>\n",
       "      <td>4</td>\n",
       "      <td>5</td>\n",
       "      <td>7</td>\n",
       "      <td>10</td>\n",
       "      <td>3</td>\n",
       "      <td>2</td>\n",
       "      <td>1</td>\n",
       "    </tr>\n",
       "    <tr>\n",
       "      <th>2</th>\n",
       "      <td>3</td>\n",
       "      <td>1</td>\n",
       "      <td>1</td>\n",
       "      <td>1</td>\n",
       "      <td>2</td>\n",
       "      <td>2</td>\n",
       "      <td>3</td>\n",
       "      <td>1</td>\n",
       "      <td>1</td>\n",
       "    </tr>\n",
       "    <tr>\n",
       "      <th>3</th>\n",
       "      <td>6</td>\n",
       "      <td>8</td>\n",
       "      <td>8</td>\n",
       "      <td>1</td>\n",
       "      <td>3</td>\n",
       "      <td>4</td>\n",
       "      <td>3</td>\n",
       "      <td>7</td>\n",
       "      <td>1</td>\n",
       "    </tr>\n",
       "    <tr>\n",
       "      <th>4</th>\n",
       "      <td>4</td>\n",
       "      <td>1</td>\n",
       "      <td>1</td>\n",
       "      <td>3</td>\n",
       "      <td>2</td>\n",
       "      <td>1</td>\n",
       "      <td>3</td>\n",
       "      <td>1</td>\n",
       "      <td>1</td>\n",
       "    </tr>\n",
       "  </tbody>\n",
       "</table>\n",
       "</div>"
      ],
      "text/plain": [
       "   Thickness  Cell_Size  Cell_Shape  Adhesion  Ept_Cell_Size  Nuclei  \\\n",
       "0          5          1           1         1              2       1   \n",
       "1          5          4           4         5              7      10   \n",
       "2          3          1           1         1              2       2   \n",
       "3          6          8           8         1              3       4   \n",
       "4          4          1           1         3              2       1   \n",
       "\n",
       "   Chromatin  Nucleoli  Mitoses  \n",
       "0          3         1        1  \n",
       "1          3         2        1  \n",
       "2          3         1        1  \n",
       "3          3         7        1  \n",
       "4          3         1        1  "
      ]
     },
     "execution_count": 19,
     "metadata": {},
     "output_type": "execute_result"
    }
   ],
   "source": [
    "x.head()"
   ]
  },
  {
   "cell_type": "code",
   "execution_count": 20,
   "id": "c02b9fd8",
   "metadata": {},
   "outputs": [
    {
     "data": {
      "text/plain": [
       "0    2\n",
       "1    2\n",
       "2    2\n",
       "3    2\n",
       "4    2\n",
       "Name: Class, dtype: int64"
      ]
     },
     "execution_count": 20,
     "metadata": {},
     "output_type": "execute_result"
    }
   ],
   "source": [
    "y.head()"
   ]
  },
  {
   "cell_type": "code",
   "execution_count": 21,
   "id": "d668a5ca",
   "metadata": {},
   "outputs": [],
   "source": [
    "from sklearn.model_selection import train_test_split"
   ]
  },
  {
   "cell_type": "code",
   "execution_count": 22,
   "id": "1b52355d",
   "metadata": {},
   "outputs": [
    {
     "name": "stdout",
     "output_type": "stream",
     "text": [
      "(524, 9)\n",
      "(175, 9)\n",
      "(524,)\n",
      "(175,)\n"
     ]
    }
   ],
   "source": [
    "x_tr,x_te,y_tr,y_te = train_test_split(x,y,test_size=0.25)\n",
    "print(x_tr.shape)\n",
    "print(x_te.shape)\n",
    "print(y_tr.shape)\n",
    "print(y_te.shape)"
   ]
  },
  {
   "cell_type": "code",
   "execution_count": 23,
   "id": "98836f97",
   "metadata": {},
   "outputs": [],
   "source": [
    "from sklearn.linear_model import LogisticRegression\n",
    "from sklearn.tree import DecisionTreeClassifier\n",
    "from sklearn.ensemble import RandomForestClassifier\n",
    "from sklearn.svm import SVC\n",
    "from sklearn.neighbors import KNeighborsClassifier"
   ]
  },
  {
   "cell_type": "code",
   "execution_count": 24,
   "id": "f3ea6954",
   "metadata": {},
   "outputs": [],
   "source": [
    "from sklearn.metrics import confusion_matrix,classification_report"
   ]
  },
  {
   "cell_type": "code",
   "execution_count": 25,
   "id": "f3ad876f",
   "metadata": {},
   "outputs": [],
   "source": [
    "def apply_model(model):\n",
    "    model.fit(x_tr,y_tr)\n",
    "    print('Accuracy',model.score(x_te,y_te))\n",
    "    ypred = model.predict(x_te)\n",
    "    print('Predicted values\\n',ypred)\n",
    "    cm = confusion_matrix(y_te,ypred)\n",
    "    print('Confusion Matrix\\n',cm)\n",
    "    sns.heatmap(cm,annot=True)\n",
    "    plt.show()\n",
    "    print('Classification report\\n',classification_report(y_te,ypred))"
   ]
  },
  {
   "cell_type": "code",
   "execution_count": 26,
   "id": "519247d7",
   "metadata": {},
   "outputs": [
    {
     "name": "stdout",
     "output_type": "stream",
     "text": [
      "Accuracy 0.9714285714285714\n",
      "Predicted values\n",
      " [2 4 2 2 4 2 4 2 4 2 4 2 4 2 4 2 2 4 2 2 2 4 4 2 4 2 2 4 4 4 2 2 2 2 4 2 4\n",
      " 2 2 2 4 2 2 4 4 2 2 2 4 2 4 2 2 4 4 2 2 2 2 2 2 2 2 4 2 2 4 2 4 4 4 4 2 4\n",
      " 4 4 2 2 2 2 2 4 4 4 2 2 4 4 2 2 2 2 2 2 2 2 2 2 2 4 2 4 4 2 2 2 2 4 2 2 2\n",
      " 2 2 2 2 4 4 2 2 2 2 4 2 2 4 2 4 4 2 4 4 2 2 2 2 4 2 2 2 4 2 4 2 2 2 2 4 2\n",
      " 2 2 2 4 2 2 2 4 4 4 4 2 4 2 4 2 2 4 4 2 4 2 2 2 4 2 2]\n",
      "Confusion Matrix\n",
      " [[110   4]\n",
      " [  1  60]]\n"
     ]
    },
    {
     "data": {
      "image/png": "[encoded data removed]",
      "text/plain": [
       "<Figure size 432x288 with 2 Axes>"
      ]
     },
     "metadata": {
      "needs_background": "light"
     },
     "output_type": "display_data"
    },
    {
     "name": "stdout",
     "output_type": "stream",
     "text": [
      "Classification report\n",
      "               precision    recall  f1-score   support\n",
      "\n",
      "           2       0.99      0.96      0.98       114\n",
      "           4       0.94      0.98      0.96        61\n",
      "\n",
      "    accuracy                           0.97       175\n",
      "   macro avg       0.96      0.97      0.97       175\n",
      "weighted avg       0.97      0.97      0.97       175\n",
      "\n"
     ]
    }
   ],
   "source": [
    "# 1) LogReg\n",
    "m1 = LogisticRegression()\n",
    "apply_model(m1)"
   ]
  },
  {
   "cell_type": "code",
   "execution_count": 27,
   "id": "814be0a1",
   "metadata": {},
   "outputs": [
    {
     "name": "stdout",
     "output_type": "stream",
     "text": [
      "Accuracy 0.9485714285714286\n",
      "Predicted values\n",
      " [2 4 2 2 4 2 4 2 4 2 4 2 4 2 4 2 2 4 2 2 2 4 4 2 4 2 2 4 4 4 2 2 2 2 4 2 4\n",
      " 2 2 2 4 2 2 2 2 2 2 2 4 2 4 2 2 4 4 2 2 2 2 2 2 2 2 4 2 2 2 2 4 4 4 4 2 4\n",
      " 4 4 2 2 2 2 2 4 4 4 2 2 4 4 2 2 2 2 2 2 2 2 2 2 2 4 2 4 4 2 2 2 2 4 2 2 2\n",
      " 2 2 2 2 4 4 2 2 2 2 4 2 2 4 2 4 4 2 4 4 2 2 2 2 4 2 2 2 4 2 4 2 2 2 2 4 2\n",
      " 2 2 2 4 2 2 2 4 4 4 4 2 2 2 4 2 2 4 4 2 4 2 2 2 4 2 2]\n",
      "Confusion Matrix\n",
      " [[110   4]\n",
      " [  5  56]]\n"
     ]
    },
    {
     "data": {
      "image/png": "[encoded data removed]",
      "text/plain": [
       "<Figure size 432x288 with 2 Axes>"
      ]
     },
     "metadata": {
      "needs_background": "light"
     },
     "output_type": "display_data"
    },
    {
     "name": "stdout",
     "output_type": "stream",
     "text": [
      "Classification report\n",
      "               precision    recall  f1-score   support\n",
      "\n",
      "           2       0.96      0.96      0.96       114\n",
      "           4       0.93      0.92      0.93        61\n",
      "\n",
      "    accuracy                           0.95       175\n",
      "   macro avg       0.94      0.94      0.94       175\n",
      "weighted avg       0.95      0.95      0.95       175\n",
      "\n"
     ]
    }
   ],
   "source": [
    "# 2) Decision Tree\n",
    "m2 = DecisionTreeClassifier(criterion='gini',max_depth=5,min_samples_split=10)\n",
    "apply_model(m2)"
   ]
  },
  {
   "cell_type": "code",
   "execution_count": 28,
   "id": "ee21aa1e",
   "metadata": {},
   "outputs": [
    {
     "name": "stdout",
     "output_type": "stream",
     "text": [
      "Accuracy 0.9657142857142857\n",
      "Predicted values\n",
      " [2 4 2 2 4 2 4 2 4 2 4 2 4 2 4 2 2 4 2 2 2 4 4 2 4 2 2 4 4 4 2 2 2 2 4 2 4\n",
      " 2 2 2 4 2 2 4 4 2 2 2 4 2 4 2 2 4 4 2 2 2 2 2 2 2 2 4 2 2 4 2 4 4 4 4 2 4\n",
      " 4 4 2 2 2 2 2 4 4 4 2 2 4 4 2 2 2 2 2 2 2 2 2 2 2 4 2 4 4 2 2 2 2 4 2 2 2\n",
      " 2 2 2 2 4 4 2 2 2 2 4 2 2 2 2 4 4 2 4 4 2 2 2 4 4 2 2 2 4 2 4 2 2 2 2 4 2\n",
      " 2 2 2 4 2 2 2 4 2 4 4 2 4 2 4 2 2 4 4 2 4 2 2 2 4 2 2]\n",
      "Confusion Matrix\n",
      " [[110   4]\n",
      " [  2  59]]\n"
     ]
    },
    {
     "data": {
      "image/png": "[encoded data removed]",
      "text/plain": [
       "<Figure size 432x288 with 2 Axes>"
      ]
     },
     "metadata": {
      "needs_background": "light"
     },
     "output_type": "display_data"
    },
    {
     "name": "stdout",
     "output_type": "stream",
     "text": [
      "Classification report\n",
      "               precision    recall  f1-score   support\n",
      "\n",
      "           2       0.98      0.96      0.97       114\n",
      "           4       0.94      0.97      0.95        61\n",
      "\n",
      "    accuracy                           0.97       175\n",
      "   macro avg       0.96      0.97      0.96       175\n",
      "weighted avg       0.97      0.97      0.97       175\n",
      "\n"
     ]
    }
   ],
   "source": [
    "# 3) Random Forest\n",
    "m3 = RandomForestClassifier(n_estimators=70,criterion='gini',max_depth=5,min_samples_split=10)\n",
    "apply_model(m3)"
   ]
  },
  {
   "cell_type": "code",
   "execution_count": 29,
   "id": "230502df",
   "metadata": {},
   "outputs": [
    {
     "name": "stdout",
     "output_type": "stream",
     "text": [
      "Accuracy 0.9657142857142857\n",
      "Predicted values\n",
      " [2 4 2 2 4 2 4 2 4 2 4 2 4 2 4 2 2 4 2 2 2 4 4 2 4 2 2 4 4 4 2 2 2 2 4 2 4\n",
      " 2 2 2 4 2 2 2 4 2 2 2 4 2 4 2 2 4 4 2 2 2 2 2 2 2 2 4 2 2 4 2 4 4 4 4 2 4\n",
      " 4 4 2 2 2 2 2 4 4 4 2 2 4 4 2 2 2 2 2 2 2 2 2 2 2 4 2 4 4 2 2 2 2 4 2 2 2\n",
      " 2 2 2 2 4 4 2 2 2 2 4 2 2 4 2 4 4 2 4 4 2 2 2 2 4 2 2 2 4 2 4 2 2 2 2 4 2\n",
      " 2 2 2 4 2 2 2 4 4 4 4 2 4 2 4 2 2 4 4 2 4 2 2 2 4 2 2]\n",
      "Confusion Matrix\n",
      " [[110   4]\n",
      " [  2  59]]\n"
     ]
    },
    {
     "data": {
      "image/png": "[encoded data removed]",
      "text/plain": [
       "<Figure size 432x288 with 2 Axes>"
      ]
     },
     "metadata": {
      "needs_background": "light"
     },
     "output_type": "display_data"
    },
    {
     "name": "stdout",
     "output_type": "stream",
     "text": [
      "Classification report\n",
      "               precision    recall  f1-score   support\n",
      "\n",
      "           2       0.98      0.96      0.97       114\n",
      "           4       0.94      0.97      0.95        61\n",
      "\n",
      "    accuracy                           0.97       175\n",
      "   macro avg       0.96      0.97      0.96       175\n",
      "weighted avg       0.97      0.97      0.97       175\n",
      "\n"
     ]
    }
   ],
   "source": [
    "# 4) SVC\n",
    "m4 = SVC(kernel='linear',C=1)\n",
    "apply_model(m4)"
   ]
  },
  {
   "cell_type": "code",
   "execution_count": 30,
   "id": "ad4f4058",
   "metadata": {},
   "outputs": [
    {
     "name": "stdout",
     "output_type": "stream",
     "text": [
      "Accuracy 0.9714285714285714\n",
      "Predicted values\n",
      " [2 4 2 2 4 2 4 2 4 2 4 2 4 2 4 2 2 4 2 2 2 4 4 2 4 2 2 4 4 4 2 2 2 2 4 2 4\n",
      " 2 2 2 4 2 2 4 4 2 2 2 4 2 4 2 2 4 4 2 2 2 2 2 2 2 2 4 2 2 4 2 4 4 4 4 2 4\n",
      " 4 4 2 2 2 2 2 4 4 4 2 2 4 4 2 2 2 2 2 2 2 2 2 2 2 4 2 4 4 2 2 2 2 4 2 2 2\n",
      " 2 2 2 2 4 4 2 2 2 2 4 2 2 2 2 4 4 2 4 4 2 2 2 2 4 2 2 2 4 2 4 2 2 2 2 4 2\n",
      " 2 2 2 4 2 2 2 2 4 4 4 2 4 2 4 2 2 4 4 2 4 2 2 2 4 2 2]\n",
      "Confusion Matrix\n",
      " [[111   3]\n",
      " [  2  59]]\n"
     ]
    },
    {
     "data": {
      "image/png": "[encoded data removed]",
      "text/plain": [
       "<Figure size 432x288 with 2 Axes>"
      ]
     },
     "metadata": {
      "needs_background": "light"
     },
     "output_type": "display_data"
    },
    {
     "name": "stdout",
     "output_type": "stream",
     "text": [
      "Classification report\n",
      "               precision    recall  f1-score   support\n",
      "\n",
      "           2       0.98      0.97      0.98       114\n",
      "           4       0.95      0.97      0.96        61\n",
      "\n",
      "    accuracy                           0.97       175\n",
      "   macro avg       0.97      0.97      0.97       175\n",
      "weighted avg       0.97      0.97      0.97       175\n",
      "\n"
     ]
    }
   ],
   "source": [
    "# 5) KNN\n",
    "m5 = KNeighborsClassifier(n_neighbors=27)\n",
    "apply_model(m5)"
   ]
  },
  {
   "cell_type": "markdown",
   "id": "09eea3b2",
   "metadata": {},
   "source": [
    "### Model-2 Feature Selection using Correlation"
   ]
  },
  {
   "cell_type": "code",
   "execution_count": 31,
   "id": "f2bb13c3",
   "metadata": {},
   "outputs": [
    {
     "data": {
      "text/html": [
       "<div>\n",
       "<style scoped>\n",
       "    .dataframe tbody tr th:only-of-type {\n",
       "        vertical-align: middle;\n",
       "    }\n",
       "\n",
       "    .dataframe tbody tr th {\n",
       "        vertical-align: top;\n",
       "    }\n",
       "\n",
       "    .dataframe thead th {\n",
       "        text-align: right;\n",
       "    }\n",
       "</style>\n",
       "<table border=\"1\" class=\"dataframe\">\n",
       "  <thead>\n",
       "    <tr style=\"text-align: right;\">\n",
       "      <th></th>\n",
       "      <th>Code_No</th>\n",
       "      <th>Thickness</th>\n",
       "      <th>Cell_Size</th>\n",
       "      <th>Cell_Shape</th>\n",
       "      <th>Adhesion</th>\n",
       "      <th>Ept_Cell_Size</th>\n",
       "      <th>Nuclei</th>\n",
       "      <th>Chromatin</th>\n",
       "      <th>Nucleoli</th>\n",
       "      <th>Mitoses</th>\n",
       "      <th>Class</th>\n",
       "    </tr>\n",
       "  </thead>\n",
       "  <tbody>\n",
       "    <tr>\n",
       "      <th>Code_No</th>\n",
       "      <td>1.000000</td>\n",
       "      <td>-0.055308</td>\n",
       "      <td>-0.041603</td>\n",
       "      <td>-0.041576</td>\n",
       "      <td>-0.064878</td>\n",
       "      <td>-0.045528</td>\n",
       "      <td>-0.092533</td>\n",
       "      <td>-0.060051</td>\n",
       "      <td>-0.052072</td>\n",
       "      <td>-0.034901</td>\n",
       "      <td>-0.080226</td>\n",
       "    </tr>\n",
       "    <tr>\n",
       "      <th>Thickness</th>\n",
       "      <td>-0.055308</td>\n",
       "      <td>1.000000</td>\n",
       "      <td>0.644913</td>\n",
       "      <td>0.654589</td>\n",
       "      <td>0.486356</td>\n",
       "      <td>0.521816</td>\n",
       "      <td>0.590008</td>\n",
       "      <td>0.558428</td>\n",
       "      <td>0.535835</td>\n",
       "      <td>0.350034</td>\n",
       "      <td>0.716001</td>\n",
       "    </tr>\n",
       "    <tr>\n",
       "      <th>Cell_Size</th>\n",
       "      <td>-0.041603</td>\n",
       "      <td>0.644913</td>\n",
       "      <td>1.000000</td>\n",
       "      <td>0.906882</td>\n",
       "      <td>0.705582</td>\n",
       "      <td>0.751799</td>\n",
       "      <td>0.686673</td>\n",
       "      <td>0.755721</td>\n",
       "      <td>0.722865</td>\n",
       "      <td>0.458693</td>\n",
       "      <td>0.817904</td>\n",
       "    </tr>\n",
       "    <tr>\n",
       "      <th>Cell_Shape</th>\n",
       "      <td>-0.041576</td>\n",
       "      <td>0.654589</td>\n",
       "      <td>0.906882</td>\n",
       "      <td>1.000000</td>\n",
       "      <td>0.683079</td>\n",
       "      <td>0.719668</td>\n",
       "      <td>0.707474</td>\n",
       "      <td>0.735948</td>\n",
       "      <td>0.719446</td>\n",
       "      <td>0.438911</td>\n",
       "      <td>0.818934</td>\n",
       "    </tr>\n",
       "    <tr>\n",
       "      <th>Adhesion</th>\n",
       "      <td>-0.064878</td>\n",
       "      <td>0.486356</td>\n",
       "      <td>0.705582</td>\n",
       "      <td>0.683079</td>\n",
       "      <td>1.000000</td>\n",
       "      <td>0.599599</td>\n",
       "      <td>0.666971</td>\n",
       "      <td>0.666715</td>\n",
       "      <td>0.603352</td>\n",
       "      <td>0.417633</td>\n",
       "      <td>0.696800</td>\n",
       "    </tr>\n",
       "    <tr>\n",
       "      <th>Ept_Cell_Size</th>\n",
       "      <td>-0.045528</td>\n",
       "      <td>0.521816</td>\n",
       "      <td>0.751799</td>\n",
       "      <td>0.719668</td>\n",
       "      <td>0.599599</td>\n",
       "      <td>1.000000</td>\n",
       "      <td>0.583701</td>\n",
       "      <td>0.616102</td>\n",
       "      <td>0.628881</td>\n",
       "      <td>0.479101</td>\n",
       "      <td>0.682785</td>\n",
       "    </tr>\n",
       "    <tr>\n",
       "      <th>Nuclei</th>\n",
       "      <td>-0.092533</td>\n",
       "      <td>0.590008</td>\n",
       "      <td>0.686673</td>\n",
       "      <td>0.707474</td>\n",
       "      <td>0.666971</td>\n",
       "      <td>0.583701</td>\n",
       "      <td>1.000000</td>\n",
       "      <td>0.674215</td>\n",
       "      <td>0.574778</td>\n",
       "      <td>0.342397</td>\n",
       "      <td>0.818968</td>\n",
       "    </tr>\n",
       "    <tr>\n",
       "      <th>Chromatin</th>\n",
       "      <td>-0.060051</td>\n",
       "      <td>0.558428</td>\n",
       "      <td>0.755721</td>\n",
       "      <td>0.735948</td>\n",
       "      <td>0.666715</td>\n",
       "      <td>0.616102</td>\n",
       "      <td>0.674215</td>\n",
       "      <td>1.000000</td>\n",
       "      <td>0.665878</td>\n",
       "      <td>0.344169</td>\n",
       "      <td>0.756616</td>\n",
       "    </tr>\n",
       "    <tr>\n",
       "      <th>Nucleoli</th>\n",
       "      <td>-0.052072</td>\n",
       "      <td>0.535835</td>\n",
       "      <td>0.722865</td>\n",
       "      <td>0.719446</td>\n",
       "      <td>0.603352</td>\n",
       "      <td>0.628881</td>\n",
       "      <td>0.574778</td>\n",
       "      <td>0.665878</td>\n",
       "      <td>1.000000</td>\n",
       "      <td>0.428336</td>\n",
       "      <td>0.712244</td>\n",
       "    </tr>\n",
       "    <tr>\n",
       "      <th>Mitoses</th>\n",
       "      <td>-0.034901</td>\n",
       "      <td>0.350034</td>\n",
       "      <td>0.458693</td>\n",
       "      <td>0.438911</td>\n",
       "      <td>0.417633</td>\n",
       "      <td>0.479101</td>\n",
       "      <td>0.342397</td>\n",
       "      <td>0.344169</td>\n",
       "      <td>0.428336</td>\n",
       "      <td>1.000000</td>\n",
       "      <td>0.423170</td>\n",
       "    </tr>\n",
       "    <tr>\n",
       "      <th>Class</th>\n",
       "      <td>-0.080226</td>\n",
       "      <td>0.716001</td>\n",
       "      <td>0.817904</td>\n",
       "      <td>0.818934</td>\n",
       "      <td>0.696800</td>\n",
       "      <td>0.682785</td>\n",
       "      <td>0.818968</td>\n",
       "      <td>0.756616</td>\n",
       "      <td>0.712244</td>\n",
       "      <td>0.423170</td>\n",
       "      <td>1.000000</td>\n",
       "    </tr>\n",
       "  </tbody>\n",
       "</table>\n",
       "</div>"
      ],
      "text/plain": [
       "                Code_No  Thickness  Cell_Size  Cell_Shape  Adhesion  \\\n",
       "Code_No        1.000000  -0.055308  -0.041603   -0.041576 -0.064878   \n",
       "Thickness     -0.055308   1.000000   0.644913    0.654589  0.486356   \n",
       "Cell_Size     -0.041603   0.644913   1.000000    0.906882  0.705582   \n",
       "Cell_Shape    -0.041576   0.654589   0.906882    1.000000  0.683079   \n",
       "Adhesion      -0.064878   0.486356   0.705582    0.683079  1.000000   \n",
       "Ept_Cell_Size -0.045528   0.521816   0.751799    0.719668  0.599599   \n",
       "Nuclei        -0.092533   0.590008   0.686673    0.707474  0.666971   \n",
       "Chromatin     -0.060051   0.558428   0.755721    0.735948  0.666715   \n",
       "Nucleoli      -0.052072   0.535835   0.722865    0.719446  0.603352   \n",
       "Mitoses       -0.034901   0.350034   0.458693    0.438911  0.417633   \n",
       "Class         -0.080226   0.716001   0.817904    0.818934  0.696800   \n",
       "\n",
       "               Ept_Cell_Size    Nuclei  Chromatin  Nucleoli   Mitoses  \\\n",
       "Code_No            -0.045528 -0.092533  -0.060051 -0.052072 -0.034901   \n",
       "Thickness           0.521816  0.590008   0.558428  0.535835  0.350034   \n",
       "Cell_Size           0.751799  0.686673   0.755721  0.722865  0.458693   \n",
       "Cell_Shape          0.719668  0.707474   0.735948  0.719446  0.438911   \n",
       "Adhesion            0.599599  0.666971   0.666715  0.603352  0.417633   \n",
       "Ept_Cell_Size       1.000000  0.583701   0.616102  0.628881  0.479101   \n",
       "Nuclei              0.583701  1.000000   0.674215  0.574778  0.342397   \n",
       "Chromatin           0.616102  0.674215   1.000000  0.665878  0.344169   \n",
       "Nucleoli            0.628881  0.574778   0.665878  1.000000  0.428336   \n",
       "Mitoses             0.479101  0.342397   0.344169  0.428336  1.000000   \n",
       "Class               0.682785  0.818968   0.756616  0.712244  0.423170   \n",
       "\n",
       "                  Class  \n",
       "Code_No       -0.080226  \n",
       "Thickness      0.716001  \n",
       "Cell_Size      0.817904  \n",
       "Cell_Shape     0.818934  \n",
       "Adhesion       0.696800  \n",
       "Ept_Cell_Size  0.682785  \n",
       "Nuclei         0.818968  \n",
       "Chromatin      0.756616  \n",
       "Nucleoli       0.712244  \n",
       "Mitoses        0.423170  \n",
       "Class          1.000000  "
      ]
     },
     "execution_count": 31,
     "metadata": {},
     "output_type": "execute_result"
    }
   ],
   "source": [
    "df.corr()"
   ]
  },
  {
   "cell_type": "code",
   "execution_count": 32,
   "id": "03cd355a",
   "metadata": {},
   "outputs": [
    {
     "data": {
      "text/plain": [
       "Code_No         -0.080226\n",
       "Thickness        0.716001\n",
       "Cell_Size        0.817904\n",
       "Cell_Shape       0.818934\n",
       "Adhesion         0.696800\n",
       "Ept_Cell_Size    0.682785\n",
       "Nuclei           0.818968\n",
       "Chromatin        0.756616\n",
       "Nucleoli         0.712244\n",
       "Mitoses          0.423170\n",
       "Class            1.000000\n",
       "Name: Class, dtype: float64"
      ]
     },
     "execution_count": 32,
     "metadata": {},
     "output_type": "execute_result"
    }
   ],
   "source": [
    "df.corr()['Class']"
   ]
  },
  {
   "cell_type": "code",
   "execution_count": 33,
   "id": "83c9d329",
   "metadata": {},
   "outputs": [],
   "source": [
    "#### Correlation Therhold = 0.70"
   ]
  },
  {
   "cell_type": "code",
   "execution_count": 34,
   "id": "90c19821",
   "metadata": {},
   "outputs": [
    {
     "name": "stdout",
     "output_type": "stream",
     "text": [
      "(699, 6) (699,)\n",
      "<class 'pandas.core.frame.DataFrame'> <class 'pandas.core.series.Series'>\n"
     ]
    }
   ],
   "source": [
    "x = df.iloc[:,[1,2,3,6,7,8]]\n",
    "y = df.iloc[:,-1]\n",
    "print(x.shape,y.shape)\n",
    "print(type(x),type(y))"
   ]
  },
  {
   "cell_type": "code",
   "execution_count": 35,
   "id": "a1847b66",
   "metadata": {},
   "outputs": [
    {
     "data": {
      "text/html": [
       "<div>\n",
       "<style scoped>\n",
       "    .dataframe tbody tr th:only-of-type {\n",
       "        vertical-align: middle;\n",
       "    }\n",
       "\n",
       "    .dataframe tbody tr th {\n",
       "        vertical-align: top;\n",
       "    }\n",
       "\n",
       "    .dataframe thead th {\n",
       "        text-align: right;\n",
       "    }\n",
       "</style>\n",
       "<table border=\"1\" class=\"dataframe\">\n",
       "  <thead>\n",
       "    <tr style=\"text-align: right;\">\n",
       "      <th></th>\n",
       "      <th>Thickness</th>\n",
       "      <th>Cell_Size</th>\n",
       "      <th>Cell_Shape</th>\n",
       "      <th>Nuclei</th>\n",
       "      <th>Chromatin</th>\n",
       "      <th>Nucleoli</th>\n",
       "    </tr>\n",
       "  </thead>\n",
       "  <tbody>\n",
       "    <tr>\n",
       "      <th>0</th>\n",
       "      <td>5</td>\n",
       "      <td>1</td>\n",
       "      <td>1</td>\n",
       "      <td>1</td>\n",
       "      <td>3</td>\n",
       "      <td>1</td>\n",
       "    </tr>\n",
       "    <tr>\n",
       "      <th>1</th>\n",
       "      <td>5</td>\n",
       "      <td>4</td>\n",
       "      <td>4</td>\n",
       "      <td>10</td>\n",
       "      <td>3</td>\n",
       "      <td>2</td>\n",
       "    </tr>\n",
       "    <tr>\n",
       "      <th>2</th>\n",
       "      <td>3</td>\n",
       "      <td>1</td>\n",
       "      <td>1</td>\n",
       "      <td>2</td>\n",
       "      <td>3</td>\n",
       "      <td>1</td>\n",
       "    </tr>\n",
       "    <tr>\n",
       "      <th>3</th>\n",
       "      <td>6</td>\n",
       "      <td>8</td>\n",
       "      <td>8</td>\n",
       "      <td>4</td>\n",
       "      <td>3</td>\n",
       "      <td>7</td>\n",
       "    </tr>\n",
       "    <tr>\n",
       "      <th>4</th>\n",
       "      <td>4</td>\n",
       "      <td>1</td>\n",
       "      <td>1</td>\n",
       "      <td>1</td>\n",
       "      <td>3</td>\n",
       "      <td>1</td>\n",
       "    </tr>\n",
       "  </tbody>\n",
       "</table>\n",
       "</div>"
      ],
      "text/plain": [
       "   Thickness  Cell_Size  Cell_Shape  Nuclei  Chromatin  Nucleoli\n",
       "0          5          1           1       1          3         1\n",
       "1          5          4           4      10          3         2\n",
       "2          3          1           1       2          3         1\n",
       "3          6          8           8       4          3         7\n",
       "4          4          1           1       1          3         1"
      ]
     },
     "execution_count": 35,
     "metadata": {},
     "output_type": "execute_result"
    }
   ],
   "source": [
    "x.head()"
   ]
  },
  {
   "cell_type": "code",
   "execution_count": 36,
   "id": "3b817b5e",
   "metadata": {},
   "outputs": [
    {
     "data": {
      "text/plain": [
       "0    2\n",
       "1    2\n",
       "2    2\n",
       "3    2\n",
       "4    2\n",
       "Name: Class, dtype: int64"
      ]
     },
     "execution_count": 36,
     "metadata": {},
     "output_type": "execute_result"
    }
   ],
   "source": [
    "y.head()"
   ]
  },
  {
   "cell_type": "code",
   "execution_count": 37,
   "id": "0a4984ca",
   "metadata": {},
   "outputs": [
    {
     "name": "stdout",
     "output_type": "stream",
     "text": [
      "(524, 6)\n",
      "(175, 6)\n",
      "(524,)\n",
      "(175,)\n"
     ]
    }
   ],
   "source": [
    "x_tr,x_te,y_tr,y_te = train_test_split(x,y,test_size=0.25)\n",
    "print(x_tr.shape)\n",
    "print(x_te.shape)\n",
    "print(y_tr.shape)\n",
    "print(y_te.shape)"
   ]
  },
  {
   "cell_type": "code",
   "execution_count": 38,
   "id": "1b6b5135",
   "metadata": {},
   "outputs": [
    {
     "name": "stdout",
     "output_type": "stream",
     "text": [
      "Accuracy 0.9657142857142857\n",
      "Predicted values\n",
      " [2 2 4 2 4 2 4 2 4 2 4 4 2 4 2 4 2 4 2 2 4 2 2 2 2 2 4 2 4 4 2 2 2 4 2 2 4\n",
      " 2 4 2 2 2 2 2 2 4 2 4 2 2 2 2 2 2 2 2 2 2 2 4 2 2 4 2 2 2 4 2 4 4 2 4 4 2\n",
      " 2 2 2 4 2 4 4 2 2 2 4 2 2 2 4 2 4 2 2 4 2 2 2 2 2 2 2 4 4 4 4 2 2 4 2 4 4\n",
      " 2 2 2 2 2 2 2 4 4 2 4 2 2 2 2 2 2 2 2 4 4 2 4 4 2 4 2 2 4 4 4 4 2 4 4 2 2\n",
      " 4 2 2 4 4 2 2 2 2 4 2 2 2 4 2 2 2 2 2 4 2 2 2 4 2 4 2]\n",
      "Confusion Matrix\n",
      " [[111   3]\n",
      " [  3  58]]\n"
     ]
    },
    {
     "data": {
      "image/png": "[encoded data removed]",
      "text/plain": [
       "<Figure size 432x288 with 2 Axes>"
      ]
     },
     "metadata": {
      "needs_background": "light"
     },
     "output_type": "display_data"
    },
    {
     "name": "stdout",
     "output_type": "stream",
     "text": [
      "Classification report\n",
      "               precision    recall  f1-score   support\n",
      "\n",
      "           2       0.97      0.97      0.97       114\n",
      "           4       0.95      0.95      0.95        61\n",
      "\n",
      "    accuracy                           0.97       175\n",
      "   macro avg       0.96      0.96      0.96       175\n",
      "weighted avg       0.97      0.97      0.97       175\n",
      "\n"
     ]
    }
   ],
   "source": [
    "m6 = LogisticRegression()\n",
    "apply_model(m6)"
   ]
  },
  {
   "cell_type": "code",
   "execution_count": 39,
   "id": "cb078c4d",
   "metadata": {},
   "outputs": [
    {
     "name": "stdout",
     "output_type": "stream",
     "text": [
      "Accuracy 0.9485714285714286\n",
      "Predicted values\n",
      " [2 2 4 2 4 2 4 2 4 2 4 4 2 4 2 4 2 4 2 2 2 2 2 2 2 2 4 2 4 4 2 2 2 4 2 2 4\n",
      " 2 4 2 2 2 2 2 2 4 2 4 2 2 2 2 2 2 2 2 2 2 2 4 2 2 4 2 2 2 4 2 4 4 2 4 4 2\n",
      " 2 2 2 4 2 4 4 2 2 2 4 2 2 2 4 2 4 2 2 4 4 2 2 2 2 2 2 4 4 4 4 2 2 2 2 4 4\n",
      " 2 2 2 2 2 2 2 4 4 2 4 2 2 2 2 2 2 2 2 4 4 2 4 2 2 4 2 2 4 4 4 4 2 4 4 2 2\n",
      " 4 2 2 4 4 2 2 2 2 4 2 2 2 4 2 2 2 2 2 4 2 4 2 4 2 4 2]\n",
      "Confusion Matrix\n",
      " [[110   4]\n",
      " [  5  56]]\n"
     ]
    },
    {
     "data": {
      "image/png": "[encoded data removed]",
      "text/plain": [
       "<Figure size 432x288 with 2 Axes>"
      ]
     },
     "metadata": {
      "needs_background": "light"
     },
     "output_type": "display_data"
    },
    {
     "name": "stdout",
     "output_type": "stream",
     "text": [
      "Classification report\n",
      "               precision    recall  f1-score   support\n",
      "\n",
      "           2       0.96      0.96      0.96       114\n",
      "           4       0.93      0.92      0.93        61\n",
      "\n",
      "    accuracy                           0.95       175\n",
      "   macro avg       0.94      0.94      0.94       175\n",
      "weighted avg       0.95      0.95      0.95       175\n",
      "\n"
     ]
    }
   ],
   "source": [
    "m7 = DecisionTreeClassifier(criterion='entropy',max_depth=5,min_samples_split=9)\n",
    "apply_model(m7)"
   ]
  },
  {
   "cell_type": "code",
   "execution_count": 40,
   "id": "bf18864c",
   "metadata": {},
   "outputs": [
    {
     "name": "stdout",
     "output_type": "stream",
     "text": [
      "Accuracy 0.9771428571428571\n",
      "Predicted values\n",
      " [2 2 4 2 4 2 4 2 4 2 4 4 2 4 2 4 2 4 2 2 4 2 2 2 2 2 4 2 4 4 2 2 2 4 2 2 4\n",
      " 2 4 2 2 2 2 2 2 4 2 4 2 2 2 2 2 2 2 2 2 2 2 4 2 2 4 2 2 2 4 2 4 4 2 4 4 4\n",
      " 2 2 2 4 2 4 4 2 2 2 4 2 2 2 4 2 4 2 2 4 2 2 2 2 2 2 2 4 4 4 4 2 2 4 2 4 4\n",
      " 2 2 2 2 2 2 2 4 4 2 4 2 2 2 2 2 2 2 2 4 4 2 4 4 2 4 2 2 4 4 4 4 2 4 4 2 2\n",
      " 4 2 2 4 4 2 2 2 2 4 2 2 2 4 2 2 2 2 2 4 2 4 2 4 2 4 2]\n",
      "Confusion Matrix\n",
      " [[111   3]\n",
      " [  1  60]]\n"
     ]
    },
    {
     "data": {
      "image/png": "[encoded data removed]",
      "text/plain": [
       "<Figure size 432x288 with 2 Axes>"
      ]
     },
     "metadata": {
      "needs_background": "light"
     },
     "output_type": "display_data"
    },
    {
     "name": "stdout",
     "output_type": "stream",
     "text": [
      "Classification report\n",
      "               precision    recall  f1-score   support\n",
      "\n",
      "           2       0.99      0.97      0.98       114\n",
      "           4       0.95      0.98      0.97        61\n",
      "\n",
      "    accuracy                           0.98       175\n",
      "   macro avg       0.97      0.98      0.98       175\n",
      "weighted avg       0.98      0.98      0.98       175\n",
      "\n"
     ]
    }
   ],
   "source": [
    "m8 = RandomForestClassifier(n_estimators=100,criterion='gini',max_depth=7,min_samples_split=15)\n",
    "apply_model(m8)"
   ]
  },
  {
   "cell_type": "code",
   "execution_count": 41,
   "id": "282be92a",
   "metadata": {},
   "outputs": [
    {
     "name": "stdout",
     "output_type": "stream",
     "text": [
      "Accuracy 0.9714285714285714\n",
      "Predicted values\n",
      " [2 2 4 2 4 2 4 2 4 2 4 4 2 4 2 4 2 4 2 2 4 2 2 2 2 2 4 2 4 4 2 2 2 4 2 2 4\n",
      " 2 4 2 2 2 2 2 2 4 2 4 2 2 2 2 2 2 2 2 2 2 2 4 2 2 4 2 2 2 4 2 4 4 2 4 4 4\n",
      " 2 2 2 4 2 4 4 2 2 2 4 2 2 2 4 2 4 2 2 4 2 2 2 2 2 2 2 4 4 4 4 2 2 4 2 4 4\n",
      " 2 2 2 2 2 2 2 4 4 2 4 2 2 2 2 2 2 2 2 4 4 2 4 4 2 4 2 2 4 4 4 4 2 4 4 2 2\n",
      " 4 2 2 4 4 2 2 2 2 4 2 2 2 4 2 2 2 2 2 4 2 2 2 4 2 4 2]\n",
      "Confusion Matrix\n",
      " [[111   3]\n",
      " [  2  59]]\n"
     ]
    },
    {
     "data": {
      "image/png": "[encoded data removed]",
      "text/plain": [
       "<Figure size 432x288 with 2 Axes>"
      ]
     },
     "metadata": {
      "needs_background": "light"
     },
     "output_type": "display_data"
    },
    {
     "name": "stdout",
     "output_type": "stream",
     "text": [
      "Classification report\n",
      "               precision    recall  f1-score   support\n",
      "\n",
      "           2       0.98      0.97      0.98       114\n",
      "           4       0.95      0.97      0.96        61\n",
      "\n",
      "    accuracy                           0.97       175\n",
      "   macro avg       0.97      0.97      0.97       175\n",
      "weighted avg       0.97      0.97      0.97       175\n",
      "\n"
     ]
    }
   ],
   "source": [
    "m9 = SVC(kernel='linear',C=0.01)\n",
    "apply_model(m9)"
   ]
  },
  {
   "cell_type": "code",
   "execution_count": 42,
   "id": "09e03866",
   "metadata": {},
   "outputs": [
    {
     "name": "stdout",
     "output_type": "stream",
     "text": [
      "Accuracy 0.96\n",
      "Predicted values\n",
      " [2 2 4 2 4 2 4 2 4 2 4 4 2 4 2 4 2 4 2 2 4 2 2 2 2 2 4 2 4 4 2 2 2 4 2 2 4\n",
      " 2 4 2 2 2 2 2 2 4 2 4 2 2 2 2 2 2 2 2 2 2 2 4 2 2 4 2 2 2 4 2 4 4 2 4 4 2\n",
      " 2 2 2 4 2 4 4 2 2 2 4 2 2 2 4 2 4 2 2 4 2 2 2 2 2 2 2 4 4 4 4 2 2 2 2 4 4\n",
      " 2 2 2 2 2 2 2 4 4 2 4 2 2 2 2 2 2 2 2 4 4 2 4 4 2 4 2 2 4 4 4 4 2 4 4 2 2\n",
      " 4 2 2 4 4 2 2 2 2 4 2 2 2 4 2 2 2 2 2 4 2 2 2 4 2 4 2]\n",
      "Confusion Matrix\n",
      " [[111   3]\n",
      " [  4  57]]\n"
     ]
    },
    {
     "data": {
      "image/png": "[encoded data removed]",
      "text/plain": [
       "<Figure size 432x288 with 2 Axes>"
      ]
     },
     "metadata": {
      "needs_background": "light"
     },
     "output_type": "display_data"
    },
    {
     "name": "stdout",
     "output_type": "stream",
     "text": [
      "Classification report\n",
      "               precision    recall  f1-score   support\n",
      "\n",
      "           2       0.97      0.97      0.97       114\n",
      "           4       0.95      0.93      0.94        61\n",
      "\n",
      "    accuracy                           0.96       175\n",
      "   macro avg       0.96      0.95      0.96       175\n",
      "weighted avg       0.96      0.96      0.96       175\n",
      "\n"
     ]
    }
   ],
   "source": [
    "m10 = KNeighborsClassifier(n_neighbors=37)\n",
    "apply_model(m10)"
   ]
  }
 ],
 "metadata": {
  "kernelspec": {
   "display_name": "Python 3 (ipykernel)",
   "language": "python",
   "name": "python3"
  },
  "language_info": {
   "codemirror_mode": {
    "name": "ipython",
    "version": 3
   },
   "file_extension": ".py",
   "mimetype": "text/x-python",
   "name": "python",
   "nbconvert_exporter": "python",
   "pygments_lexer": "ipython3",
   "version": "3.9.7"
  }
 },
 "nbformat": 4,
 "nbformat_minor": 5
}
